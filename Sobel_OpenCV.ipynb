{
 "cells": [
  {
   "cell_type": "code",
   "execution_count": 3,
   "id": "8056fcf4-d29d-4cb2-97d3-a9520c848948",
   "metadata": {},
   "outputs": [
    {
     "name": "stdout",
     "output_type": "stream",
     "text": [
      "Collecting opencv-pythonNote: you may need to restart the kernel to use updated packages.\n",
      "\n",
      "  Using cached opencv_python-4.10.0.84-cp37-abi3-win_amd64.whl.metadata (20 kB)\n",
      "Requirement already satisfied: numpy>=1.21.2 in c:\\users\\user\\anaconda3\\lib\\site-packages (from opencv-python) (1.26.4)\n",
      "Using cached opencv_python-4.10.0.84-cp37-abi3-win_amd64.whl (38.8 MB)\n",
      "Installing collected packages: opencv-python\n",
      "Successfully installed opencv-python-4.10.0.84\n"
     ]
    }
   ],
   "source": [
    "pip install opencv-python\n"
   ]
  },
  {
   "cell_type": "code",
   "execution_count": 4,
   "id": "982776ad-633b-41be-81da-a56de7a50ac8",
   "metadata": {},
   "outputs": [],
   "source": [
    "import cv2\n",
    "import math\n",
    "import numpy as np\n",
    "import scipy.ndimage"
   ]
  },
  {
   "cell_type": "code",
   "execution_count": 5,
   "id": "4b288997-be64-4acd-a28d-5521cea1b1e1",
   "metadata": {},
   "outputs": [],
   "source": [
    "def orientated_non_max_suppression(mag, ang):\n",
    "    ang_quant = np.round(ang / (np.pi/4)) % 4\n",
    "    winE = np.array([[0, 0, 0],[1, 1, 1], [0, 0, 0]])\n",
    "    winSE = np.array([[1, 0, 0], [0, 1, 0], [0, 0, 1]])\n",
    "    winS = np.array([[0, 1, 0], [0, 1, 0], [0, 1, 0]])\n",
    "    winSW = np.array([[0, 0, 1], [0, 1, 0], [1, 0, 0]])\n",
    "\n",
    "    magE = non_max_suppression(mag, winE)\n",
    "    magSE = non_max_suppression(mag, winSE)\n",
    "    magS = non_max_suppression(mag, winS)\n",
    "    magSW = non_max_suppression(mag, winSW)\n",
    "\n",
    "    mag[ang_quant == 0] = magE[ang_quant == 0]\n",
    "    mag[ang_quant == 1] = magSE[ang_quant == 1]\n",
    "    mag[ang_quant == 2] = magS[ang_quant == 2]\n",
    "    mag[ang_quant == 3] = magSW[ang_quant == 3]\n",
    "    return mag\n",
    "\n",
    "def non_max_suppression(data, win):\n",
    "    data_max = scipy.ndimage.filters.maximum_filter(data, footprint=win, mode='constant')\n",
    "    data_max[data != data_max] = 0\n",
    "    return data_max\n"
   ]
  },
  {
   "cell_type": "code",
   "execution_count": 9,
   "id": "54c926fb-cab1-4b89-8ac9-b8c5d2f3d2b1",
   "metadata": {},
   "outputs": [
    {
     "name": "stderr",
     "output_type": "stream",
     "text": [
      "C:\\Users\\User\\AppData\\Local\\Temp\\ipykernel_14156\\3362531310.py:20: DeprecationWarning: Please use `maximum_filter` from the `scipy.ndimage` namespace, the `scipy.ndimage.filters` namespace is deprecated.\n",
      "  data_max = scipy.ndimage.filters.maximum_filter(data, footprint=win, mode='constant')\n"
     ]
    }
   ],
   "source": [
    "# start calulcation\n",
    "gray_image = cv2.imread(r\"C:\\Users\\User\\Downloads\\crack detect\\crack3.jpeg\", 0)\n",
    "\n",
    "with_nmsup = True #apply non-maximal suppression\n",
    "fudgefactor = 1.3 #with this threshold you can play a little bit\n",
    "sigma = 21 #for Gaussian Kernel\n",
    "kernel = 2*math.ceil(2*sigma)+1 #Kernel size\n",
    "\n",
    "gray_image = gray_image/255.0\n",
    "blur = cv2.GaussianBlur(gray_image, (kernel, kernel), sigma)\n",
    "gray_image = cv2.subtract(gray_image, blur)\n",
    "\n",
    "# compute sobel response\n",
    "sobelx = cv2.Sobel(gray_image, cv2.CV_64F, 1, 0, ksize=3)\n",
    "sobely = cv2.Sobel(gray_image, cv2.CV_64F, 0, 1, ksize=3)\n",
    "mag = np.hypot(sobelx, sobely)\n",
    "ang = np.arctan2(sobely, sobelx)\n",
    "\n",
    "# threshold\n",
    "threshold = 4 * fudgefactor * np.mean(mag)\n",
    "mag[mag < threshold] = 0\n",
    "\n",
    "#either get edges directly\n",
    "if with_nmsup is False:\n",
    "    mag = cv2.normalize(mag, 0, 255, cv2.NORM_MINMAX)\n",
    "    kernel = np.ones((5,5),np.uint8)\n",
    "    result = cv2.morphologyEx(mag, cv2.MORPH_CLOSE, kernel)\n",
    "    cv2.imshow('im', result)\n",
    "    cv2.waitKey()\n",
    "\n",
    "#or apply a non-maximal suppression\n",
    "else:\n",
    "\n",
    "    # non-maximal suppression\n",
    "    mag = orientated_non_max_suppression(mag, ang)\n",
    "    # create mask\n",
    "    mag[mag > 0] = 255\n",
    "    mag = mag.astype(np.uint8)\n",
    "\n",
    "    kernel = np.ones((5,5),np.uint8)\n",
    "    result = cv2.morphologyEx(mag, cv2.MORPH_CLOSE, kernel)\n",
    "\n",
    "    cv2.imshow('im', result)\n",
    "    cv2.waitKey()"
   ]
  },
  {
   "cell_type": "code",
   "execution_count": null,
   "id": "f4a51b88-e047-4f44-8a5e-2af8ef351c43",
   "metadata": {},
   "outputs": [],
   "source": []
  }
 ],
 "metadata": {
  "kernelspec": {
   "display_name": "Python 3 (ipykernel)",
   "language": "python",
   "name": "python3"
  },
  "language_info": {
   "codemirror_mode": {
    "name": "ipython",
    "version": 3
   },
   "file_extension": ".py",
   "mimetype": "text/x-python",
   "name": "python",
   "nbconvert_exporter": "python",
   "pygments_lexer": "ipython3",
   "version": "3.11.7"
  }
 },
 "nbformat": 4,
 "nbformat_minor": 5
}
